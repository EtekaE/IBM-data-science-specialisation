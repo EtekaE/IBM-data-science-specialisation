{
    "cells": [
        {
            "cell_type": "markdown",
            "metadata": {
                "collapsed": true
            },
            "source": "# My Jupyter Notebook on IBM Data Science Experience"
        },
        {
            "cell_type": "markdown",
            "metadata": {},
            "source": "**Okon Enyenihi**  \nData Scientist:)"
        },
        {
            "cell_type": "markdown",
            "metadata": {},
            "source": "*I am interested in data science because it is cool.*  \n*Some knowledge of data science would allow me to come up with more innovative ways to solve problems at work.*\n"
        },
        {
            "cell_type": "markdown",
            "metadata": {},
            "source": "### My code finds the square root of 25"
        },
        {
            "cell_type": "code",
            "execution_count": 12,
            "metadata": {},
            "outputs": [
                {
                    "data": {
                        "text/plain": "5.0"
                    },
                    "execution_count": 12,
                    "metadata": {},
                    "output_type": "execute_result"
                }
            ],
            "source": "import math  \nx = math.sqrt(25)\nx"
        },
        {
            "cell_type": "markdown",
            "metadata": {},
            "source": "~~here you go strikethorugh~~  \n___  \n1. Monday  \n2. Teusday  \n + Oranges  \n [BBC new services](https://www.BBC.com)  \n ![alt text](https://github.com/adam-p/markdown-here/raw/master/src/common/images/icon48.png \"Logo Title Text 1\")  \n\n`This is all i could do`  \n> I am feeling pretty happy with this thus far. Oh boy let's keep learning to make sure this is long enough to actually solve some problems for everyone. Oh, you can *put* **Markdown** into a blockquote.       "
        }
    ],
    "metadata": {
        "kernelspec": {
            "display_name": "Python 3.6",
            "language": "python",
            "name": "python3"
        },
        "language_info": {
            "codemirror_mode": {
                "name": "ipython",
                "version": 3
            },
            "file_extension": ".py",
            "mimetype": "text/x-python",
            "name": "python",
            "nbconvert_exporter": "python",
            "pygments_lexer": "ipython3",
            "version": "3.6.8"
        }
    },
    "nbformat": 4,
    "nbformat_minor": 1
}
